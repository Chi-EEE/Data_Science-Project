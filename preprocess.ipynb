{
 "cells": [
  {
   "cell_type": "code",
   "execution_count": null,
   "metadata": {},
   "outputs": [],
   "source": [
    "import pandas as pd"
   ]
  },
  {
   "cell_type": "code",
   "execution_count": null,
   "metadata": {},
   "outputs": [],
   "source": [
    "file_path = \"C:/Users/admin/Downloads/battlesStaging_12282020_WL_tagged.csv/battlesStaging_12282020_WL_tagged.csv\""
   ]
  },
  {
   "cell_type": "code",
   "execution_count": null,
   "metadata": {},
   "outputs": [],
   "source": [
    "data = pd.read_csv(file_path) "
   ]
  },
  {
   "cell_type": "code",
   "execution_count": null,
   "metadata": {},
   "outputs": [],
   "source": [
    "columns_to_remove = [\n",
    "    \"battleTime\",\n",
    "    \"tournamentTag\",\n",
    "]\n",
    "\n",
    "teams = [\"loser\", \"winner\"]\n",
    "for team in teams:\n",
    "    columns = [\n",
    "        \"{}.tag\".format(team),\n",
    "        \n",
    "        \"{}.startingTrophies\".format(team),\n",
    "        \"{}.trophyChange\".format(team),\n",
    "        \"{}.clan.tag\".format(team),\n",
    "        \"{}.clan.badgeId\".format(team),\n",
    "\n",
    "        \"{}.kingTowerHitPoints\".format(team),\n",
    "        \"{}.princessTowersHitPoints\".format(team),\n",
    "\n",
    "        \"{}.cards.list\".format(team),\n",
    "\n",
    "        \"{}.totalcard.level\".format(team),\n",
    "        \"{}.troop.count\".format(team),\n",
    "        \"{}.structure.count\".format(team),\n",
    "        \"{}.spell.count\".format(team),\n",
    "        \"{}.common.count\".format(team),\n",
    "        \"{}.rare.count\".format(team),\n",
    "        \"{}.epic.count\".format(team),\n",
    "        \"{}.legendary.count\".format(team),\n",
    "        \"{}.elixir.average\".format(team),\n",
    "    ]\n",
    "    columns_to_remove.append(\n",
    "        columns\n",
    "    )"
   ]
  },
  {
   "cell_type": "code",
   "execution_count": null,
   "metadata": {},
   "outputs": [],
   "source": [
    "data.rename({\"Unnamed: 0\":\"index\"}, axis=\"columns\", inplace=True)\n",
    "data.drop([\"index\"], axis=1, inplace=True)"
   ]
  },
  {
   "cell_type": "code",
   "execution_count": null,
   "metadata": {},
   "outputs": [],
   "source": [
    "for column in columns_to_remove:\n",
    "    data.drop(column, inplace=True, axis=1)"
   ]
  },
  {
   "cell_type": "code",
   "execution_count": null,
   "metadata": {},
   "outputs": [],
   "source": [
    "data.to_csv('modified_data.csv', index=False)"
   ]
  },
  {
   "cell_type": "code",
   "execution_count": null,
   "metadata": {},
   "outputs": [],
   "source": []
  }
 ],
 "metadata": {
  "kernelspec": {
   "display_name": "Python 3",
   "language": "python",
   "name": "python3"
  },
  "language_info": {
   "codemirror_mode": {
    "name": "ipython",
    "version": 3
   },
   "file_extension": ".py",
   "mimetype": "text/x-python",
   "name": "python",
   "nbconvert_exporter": "python",
   "pygments_lexer": "ipython3",
   "version": "3.10.9"
  }
 },
 "nbformat": 4,
 "nbformat_minor": 2
}
