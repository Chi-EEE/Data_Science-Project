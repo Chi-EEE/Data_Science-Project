{
 "cells": [
  {
   "cell_type": "code",
   "execution_count": 1,
   "metadata": {},
   "outputs": [],
   "source": [
    "import csv"
   ]
  },
  {
   "cell_type": "code",
   "execution_count": 11,
   "metadata": {},
   "outputs": [],
   "source": [
    "counter_dict = {}"
   ]
  },
  {
   "cell_type": "code",
   "execution_count": 19,
   "metadata": {},
   "outputs": [
    {
     "name": "stdout",
     "output_type": "stream",
     "text": [
      "['team.card1.id', 'team.card1.name']\n"
     ]
    }
   ],
   "source": [
    "with open('CardMasterListSeason18_12082020.csv', 'r', encoding='utf-8-sig') as csv_file:\n",
    "    csv_reader = csv.DictReader(csv_file)\n",
    "    print(csv_reader.fieldnames)\n",
    "    for row in csv_reader:\n",
    "        card_id = row['team.card1.id']\n",
    "        card_name = row['team.card1.name']\n",
    "\n",
    "        counter_dict[card_id] = 0\n"
   ]
  },
  {
   "cell_type": "code",
   "execution_count": 20,
   "metadata": {},
   "outputs": [
    {
     "data": {
      "text/plain": [
       "{'26000000': 'Knight',\n",
       " '26000001': 'Archers',\n",
       " '26000002': 'Goblins',\n",
       " '26000003': 'Giant',\n",
       " '26000004': 'P.E.K.K.A',\n",
       " '26000005': 'Minions',\n",
       " '26000006': 'Balloon',\n",
       " '26000007': 'Witch',\n",
       " '26000008': 'Barbarians',\n",
       " '26000009': 'Golem',\n",
       " '26000010': 'Skeletons',\n",
       " '26000011': 'Valkyrie',\n",
       " '26000012': 'Skeleton Army',\n",
       " '26000013': 'Bomber',\n",
       " '26000014': 'Musketeer',\n",
       " '26000015': 'Baby Dragon',\n",
       " '26000016': 'Prince',\n",
       " '26000017': 'Wizard',\n",
       " '26000018': 'Mini P.E.K.K.A',\n",
       " '26000019': 'Spear Goblins',\n",
       " '26000020': 'Giant Skeleton',\n",
       " '26000021': 'Hog Rider',\n",
       " '26000022': 'Minion Horde',\n",
       " '26000023': 'Ice Wizard',\n",
       " '26000024': 'Royal Giant',\n",
       " '26000025': 'Guards',\n",
       " '26000026': 'Princess',\n",
       " '26000027': 'Dark Prince',\n",
       " '26000028': 'Three Musketeers',\n",
       " '26000029': 'Lava Hound',\n",
       " '26000030': 'Ice Spirit',\n",
       " '26000031': 'Fire Spirits',\n",
       " '26000032': 'Miner',\n",
       " '26000033': 'Sparky',\n",
       " '26000034': 'Bowler',\n",
       " '26000035': 'Lumberjack',\n",
       " '26000036': 'Battle Ram',\n",
       " '26000037': 'Inferno Dragon',\n",
       " '26000038': 'Ice Golem',\n",
       " '26000039': 'Mega Minion',\n",
       " '26000040': 'Dart Goblin',\n",
       " '26000041': 'Goblin Gang',\n",
       " '26000042': 'Electro Wizard',\n",
       " '26000043': 'Elite Barbarians',\n",
       " '26000044': 'Hunter',\n",
       " '26000045': 'Executioner',\n",
       " '26000046': 'Bandit',\n",
       " '26000047': 'Royal Recruits',\n",
       " '26000048': 'Night Witch',\n",
       " '26000049': 'Bats',\n",
       " '26000050': 'Royal Ghost',\n",
       " '26000051': 'Ram Rider',\n",
       " '26000052': 'Zappies',\n",
       " '26000053': 'Rascals',\n",
       " '26000054': 'Cannon Cart',\n",
       " '26000055': 'Mega Knight',\n",
       " '26000056': 'Skeleton Barrel',\n",
       " '26000057': 'Flying Machine',\n",
       " '26000058': 'Wall Breakers',\n",
       " '26000059': 'Royal Hogs',\n",
       " '26000060': 'Goblin Giant',\n",
       " '26000061': 'Fisherman',\n",
       " '26000062': 'Magic Archer',\n",
       " '26000063': 'Electro Dragon',\n",
       " '26000064': 'Firecracker',\n",
       " '26000067': 'Elixir Golem',\n",
       " '26000068': 'Battle Healer',\n",
       " '26000080': 'Skeleton Dragons',\n",
       " '26000083': 'Mother Witch',\n",
       " '26000084': 'Electro Spirit',\n",
       " '26000085': 'Electro Giant',\n",
       " '27000000': 'Cannon',\n",
       " '27000001': 'Goblin Hut',\n",
       " '27000002': 'Mortar',\n",
       " '27000003': 'Inferno Tower',\n",
       " '27000004': 'Bomb Tower',\n",
       " '27000005': 'Barbarian Hut',\n",
       " '27000006': 'Tesla',\n",
       " '27000007': 'Elixir Collector',\n",
       " '27000008': 'X-Bow',\n",
       " '27000009': 'Tombstone',\n",
       " '27000010': 'Furnace',\n",
       " '27000012': 'Goblin Cage',\n",
       " '28000000': 'Fireball',\n",
       " '28000001': 'Arrows',\n",
       " '28000002': 'Rage',\n",
       " '28000003': 'Rocket',\n",
       " '28000004': 'Goblin Barrel',\n",
       " '28000005': 'Freeze',\n",
       " '28000006': 'Mirror',\n",
       " '28000007': 'Lightning',\n",
       " '28000008': 'Zap',\n",
       " '28000009': 'Poison',\n",
       " '28000010': 'Graveyard',\n",
       " '28000011': 'The Log',\n",
       " '28000012': 'Tornado',\n",
       " '28000013': 'Clone',\n",
       " '28000014': 'Earthquake',\n",
       " '28000015': 'Barbarian Barrel',\n",
       " '28000016': 'Heal Spirit',\n",
       " '28000017': 'Giant Snowball',\n",
       " '28000018': 'Royal Delivery'}"
      ]
     },
     "execution_count": 20,
     "metadata": {},
     "output_type": "execute_result"
    }
   ],
   "source": [
    "counter_dict"
   ]
  },
  {
   "cell_type": "code",
   "execution_count": null,
   "metadata": {},
   "outputs": [],
   "source": []
  }
 ],
 "metadata": {
  "kernelspec": {
   "display_name": "Python 3",
   "language": "python",
   "name": "python3"
  },
  "language_info": {
   "codemirror_mode": {
    "name": "ipython",
    "version": 3
   },
   "file_extension": ".py",
   "mimetype": "text/x-python",
   "name": "python",
   "nbconvert_exporter": "python",
   "pygments_lexer": "ipython3",
   "version": "3.11.5"
  }
 },
 "nbformat": 4,
 "nbformat_minor": 2
}
