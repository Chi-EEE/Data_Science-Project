{
 "cells": [
  {
   "cell_type": "markdown",
   "metadata": {},
   "source": [
    "# Removing Underleveled\n",
    "Now that there are less columns, we can now remove all the underleveled cards from the dataset.  \n",
    "If we kept the underleveled cards in the dataset, the result of the battles may skew towards the players with higher levels. \n",
    "\n",
    "This is why we are removing them.\n",
    "\n",
    "\n",
    "<sub><sup>Please note that this notebook was made with the help of ChatGPT</sup></sub>"
   ]
  },
  {
   "cell_type": "code",
   "execution_count": 1,
   "metadata": {},
   "outputs": [
    {
     "name": "stdout",
     "output_type": "stream",
     "text": [
      "Defaulting to user installation because normal site-packages is not writeable\n",
      "Requirement already satisfied: pandas in c:\\programdata\\anaconda3\\lib\\site-packages (2.0.3)\n",
      "Requirement already satisfied: python-dateutil>=2.8.2 in c:\\programdata\\anaconda3\\lib\\site-packages (from pandas) (2.8.2)\n",
      "Requirement already satisfied: pytz>=2020.1 in c:\\programdata\\anaconda3\\lib\\site-packages (from pandas) (2023.3.post1)\n",
      "Requirement already satisfied: tzdata>=2022.1 in c:\\programdata\\anaconda3\\lib\\site-packages (from pandas) (2023.3)\n",
      "Requirement already satisfied: numpy>=1.21.0 in c:\\programdata\\anaconda3\\lib\\site-packages (from pandas) (1.24.3)\n",
      "Requirement already satisfied: six>=1.5 in c:\\programdata\\anaconda3\\lib\\site-packages (from python-dateutil>=2.8.2->pandas) (1.16.0)\n",
      "Note: you may need to restart the kernel to use updated packages.\n"
     ]
    }
   ],
   "source": [
    "%pip install pandas\n",
    "import pandas as pd"
   ]
  },
  {
   "cell_type": "code",
   "execution_count": 2,
   "metadata": {},
   "outputs": [],
   "source": [
    "file_path = \"data/out/battle_dataset/battlesStaging_12282020_WL_tagged.csv\""
   ]
  },
  {
   "cell_type": "markdown",
   "metadata": {},
   "source": [
    "Lets read the battle dataset!"
   ]
  },
  {
   "cell_type": "code",
   "execution_count": 3,
   "metadata": {},
   "outputs": [
    {
     "name": "stdout",
     "output_type": "stream",
     "text": [
      "Successfully loaded the data!\n"
     ]
    }
   ],
   "source": [
    "data = pd.read_csv(file_path)\n",
    "print(\"Successfully loaded the data!\")"
   ]
  },
  {
   "cell_type": "markdown",
   "metadata": {},
   "source": [
    "Now we are going to create a list called `columns_to_check_underleveled` for pandas to check."
   ]
  },
  {
   "cell_type": "code",
   "execution_count": 4,
   "metadata": {},
   "outputs": [],
   "source": [
    "columns_to_check_underleveled = []\n",
    "\n",
    "# Go through each team and each card and add the level column to the list\n",
    "teams = [\"loser\", \"winner\"]\n",
    "for team in teams:\n",
    "    for number in range(1, 8 + 1):\n",
    "        columns_to_check_underleveled.append(\n",
    "            f\"{team}.card{number}.level\"\n",
    "        )"
   ]
  },
  {
   "cell_type": "code",
   "execution_count": 5,
   "metadata": {},
   "outputs": [
    {
     "data": {
      "text/plain": [
       "['loser.card1.level',\n",
       " 'loser.card2.level',\n",
       " 'loser.card3.level',\n",
       " 'loser.card4.level',\n",
       " 'loser.card5.level',\n",
       " 'loser.card6.level',\n",
       " 'loser.card7.level',\n",
       " 'loser.card8.level',\n",
       " 'winner.card1.level',\n",
       " 'winner.card2.level',\n",
       " 'winner.card3.level',\n",
       " 'winner.card4.level',\n",
       " 'winner.card5.level',\n",
       " 'winner.card6.level',\n",
       " 'winner.card7.level',\n",
       " 'winner.card8.level']"
      ]
     },
     "execution_count": 5,
     "metadata": {},
     "output_type": "execute_result"
    }
   ],
   "source": [
    "columns_to_check_underleveled # Check that the columns are correct"
   ]
  },
  {
   "cell_type": "markdown",
   "metadata": {},
   "source": [
    "Now we are going to keep the battle if the levels of all the cards from both players are the same "
   ]
  },
  {
   "cell_type": "code",
   "execution_count": 6,
   "metadata": {},
   "outputs": [],
   "source": [
    "removed_underlevel = data[data[columns_to_check_underleveled].nunique(axis=1) == 1]\n",
    "print(\"Successfully removed underleveled battles!\")"
   ]
  },
  {
   "cell_type": "code",
   "execution_count": null,
   "metadata": {},
   "outputs": [],
   "source": [
    "removed_underlevel.to_csv(file_path, index=False)\n",
    "print(\"Successfully saved the data!\")"
   ]
  },
  {
   "cell_type": "markdown",
   "metadata": {},
   "source": [
    "We can now proceed to the next `ipynb` file (4)."
   ]
  }
 ],
 "metadata": {
  "kernelspec": {
   "display_name": "Python 3",
   "language": "python",
   "name": "python3"
  },
  "language_info": {
   "codemirror_mode": {
    "name": "ipython",
    "version": 3
   },
   "file_extension": ".py",
   "mimetype": "text/x-python",
   "name": "python",
   "nbconvert_exporter": "python",
   "pygments_lexer": "ipython3",
   "version": "3.11.5"
  }
 },
 "nbformat": 4,
 "nbformat_minor": 2
}
