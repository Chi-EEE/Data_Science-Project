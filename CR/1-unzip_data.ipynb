{
 "cells": [
  {
   "cell_type": "markdown",
   "metadata": {},
   "source": [
    "Before we preprocess the data, we would have to combine and unzip the data from the data directory."
   ]
  },
  {
   "cell_type": "code",
   "execution_count": 1,
   "metadata": {},
   "outputs": [],
   "source": [
    "import shutil\n",
    "import glob\n",
    "import os"
   ]
  },
  {
   "cell_type": "code",
   "execution_count": 2,
   "metadata": {},
   "outputs": [],
   "source": [
    "# From ChatGPT\n",
    "def concatenate_zip_files(input_pattern, output_path):\n",
    "    files = glob.glob(input_pattern)\n",
    "    if not files:\n",
    "        print(f'No files found matching the pattern: {input_pattern}')\n",
    "        return\n",
    "    files.sort()\n",
    "    with open(output_path, 'wb') as output_file:\n",
    "        for file in files:\n",
    "            try:\n",
    "                with open(file, 'rb') as input_file:\n",
    "                    shutil.copyfileobj(input_file, output_file)\n",
    "            except Exception as e:\n",
    "                print(f'Error processing file {file}: {e}')\n",
    "    if os.path.getsize(output_path) > 0:\n",
    "        print(f'Concatenation complete. Result saved to {output_path}')\n",
    "    else:\n",
    "        print('Concatenation failed. Check for errors and file content.')"
   ]
  },
  {
   "cell_type": "code",
   "execution_count": 3,
   "metadata": {},
   "outputs": [],
   "source": [
    "input_pattern = 'data/battlesStaging_12282020_WL_tagged.csv.zip.*'\n",
    "output_path = os.path.expanduser('data/battlesStaging_12282020_WL_tagged.csv.zip')"
   ]
  },
  {
   "cell_type": "markdown",
   "metadata": {},
   "source": [
    "We are going to concatenate the zip files since they are split into 10MB each.  \n",
    "They're 10MB each because Github does not allow files over 100MB. "
   ]
  },
  {
   "cell_type": "code",
   "execution_count": 4,
   "metadata": {},
   "outputs": [
    {
     "name": "stdout",
     "output_type": "stream",
     "text": [
      "Concatenation complete. Result saved to data/battlesStaging_12282020_WL_tagged.csv.zip\n"
     ]
    }
   ],
   "source": [
    "concatenate_zip_files(input_pattern, output_path)"
   ]
  },
  {
   "cell_type": "code",
   "execution_count": 5,
   "metadata": {},
   "outputs": [],
   "source": [
    "import zipfile"
   ]
  },
  {
   "cell_type": "code",
   "execution_count": 6,
   "metadata": {},
   "outputs": [
    {
     "name": "stdout",
     "output_type": "stream",
     "text": [
      "Done\n"
     ]
    }
   ],
   "source": [
    "with zipfile.ZipFile('data/battlesStaging_12282020_WL_tagged.csv.zip', 'r') as zip_ref:\n",
    "    zip_ref.extractall('data/out/battle_dataset')\n",
    "print('Done')"
   ]
  },
  {
   "cell_type": "markdown",
   "metadata": {},
   "source": [
    "Now that we have the battle_dataset unzipped, we can now preprocess on the data!  \n",
    "Please proceed to the next `ipynb` file (2)."
   ]
  }
 ],
 "metadata": {
  "kernelspec": {
   "display_name": "base",
   "language": "python",
   "name": "python3"
  },
  "language_info": {
   "codemirror_mode": {
    "name": "ipython",
    "version": 3
   },
   "file_extension": ".py",
   "mimetype": "text/x-python",
   "name": "python",
   "nbconvert_exporter": "python",
   "pygments_lexer": "ipython3",
   "version": "3.11.5"
  }
 },
 "nbformat": 4,
 "nbformat_minor": 2
}
