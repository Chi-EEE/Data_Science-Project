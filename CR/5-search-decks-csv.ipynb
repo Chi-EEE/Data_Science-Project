{
 "cells": [
  {
   "cell_type": "markdown",
   "metadata": {},
   "source": [
    "# Using deck_stats.csv\n",
    "\n",
    "Now that we have the decks stored in the CSV, we can now search through it and get whatever information you want from it.  \n",
    "For example:  \n",
    "- We can use the CSV to find the best decks with the your chosen cards\n",
    "- Get the best win-rate of all the decks\n",
    "- Get the best usage rate of all the decks\n",
    "\n",
    "<sub><sup>Please note that this notebook was made with the help of ChatGPT</sup></sub>"
   ]
  },
  {
   "cell_type": "code",
   "execution_count": 2,
   "metadata": {},
   "outputs": [
    {
     "name": "stdout",
     "output_type": "stream",
     "text": [
      "Defaulting to user installation because normal site-packages is not writeable\n",
      "Requirement already satisfied: pandas in c:\\programdata\\anaconda3\\lib\\site-packages (2.0.3)\n",
      "Requirement already satisfied: python-dateutil>=2.8.2 in c:\\programdata\\anaconda3\\lib\\site-packages (from pandas) (2.8.2)\n",
      "Requirement already satisfied: pytz>=2020.1 in c:\\programdata\\anaconda3\\lib\\site-packages (from pandas) (2023.3.post1)\n",
      "Requirement already satisfied: tzdata>=2022.1 in c:\\programdata\\anaconda3\\lib\\site-packages (from pandas) (2023.3)\n",
      "Requirement already satisfied: numpy>=1.21.0 in c:\\programdata\\anaconda3\\lib\\site-packages (from pandas) (1.24.3)\n",
      "Requirement already satisfied: six>=1.5 in c:\\programdata\\anaconda3\\lib\\site-packages (from python-dateutil>=2.8.2->pandas) (1.16.0)\n",
      "Note: you may need to restart the kernel to use updated packages.\n"
     ]
    }
   ],
   "source": [
    "%pip install pandas\n",
    "import pandas as pd"
   ]
  },
  {
   "cell_type": "code",
   "execution_count": 3,
   "metadata": {},
   "outputs": [],
   "source": [
    "file_path = \"out/deck_stats.csv\""
   ]
  },
  {
   "cell_type": "code",
   "execution_count": 4,
   "metadata": {},
   "outputs": [],
   "source": [
    "df = pd.read_csv(file_path)"
   ]
  },
  {
   "cell_type": "code",
   "execution_count": 5,
   "metadata": {},
   "outputs": [],
   "source": [
    "card_data = pd.read_csv(\"card_data.csv\")\n",
    "valid_card_names = list(map(str.lower,card_data['team.card1.name']))"
   ]
  },
  {
   "cell_type": "markdown",
   "metadata": {},
   "source": [
    "Library to check if the card names are similar"
   ]
  },
  {
   "cell_type": "code",
   "execution_count": 6,
   "metadata": {},
   "outputs": [],
   "source": [
    "import difflib"
   ]
  },
  {
   "cell_type": "code",
   "execution_count": 7,
   "metadata": {},
   "outputs": [],
   "source": [
    "# Function to search for rows containing a specific card name\n",
    "def search_by_card_name(card_name):\n",
    "    # Use the 'any' method along axis=1 to check if any column contains the card name\n",
    "    result_df = df[df.apply(lambda row: card_name.lower() in row.str.lower().values, axis=1)]\n",
    "    return result_df\n",
    "\n",
    "# Take user input for the card name and ensure it is valid\n",
    "while True:\n",
    "    card_name_to_search = input(\"Enter the card name: \").lower()\n",
    "    if card_name_to_search in valid_card_names:\n",
    "        break\n",
    "    else:\n",
    "        # Provide suggestions for similar card names\n",
    "        suggestions = difflib.get_close_matches(card_name_to_search, valid_card_names)\n",
    "        \n",
    "        if suggestions:\n",
    "            print(f\"Invalid card name. Did you mean one of these? {', '.join(suggestions)}\")\n",
    "        else:\n",
    "            print(\"Invalid card name. Please enter a valid card name.\")\n",
    "\n",
    "result = search_by_card_name(card_name_to_search)"
   ]
  },
  {
   "cell_type": "code",
   "execution_count": 8,
   "metadata": {},
   "outputs": [
    {
     "data": {
      "text/html": [
       "<div>\n",
       "<style scoped>\n",
       "    .dataframe tbody tr th:only-of-type {\n",
       "        vertical-align: middle;\n",
       "    }\n",
       "\n",
       "    .dataframe tbody tr th {\n",
       "        vertical-align: top;\n",
       "    }\n",
       "\n",
       "    .dataframe thead th {\n",
       "        text-align: right;\n",
       "    }\n",
       "</style>\n",
       "<table border=\"1\" class=\"dataframe\">\n",
       "  <thead>\n",
       "    <tr style=\"text-align: right;\">\n",
       "      <th></th>\n",
       "      <th>Card_1</th>\n",
       "      <th>Card_2</th>\n",
       "      <th>Card_3</th>\n",
       "      <th>Card_4</th>\n",
       "      <th>Card_5</th>\n",
       "      <th>Card_6</th>\n",
       "      <th>Card_7</th>\n",
       "      <th>Card_8</th>\n",
       "      <th>Wins</th>\n",
       "      <th>Losses</th>\n",
       "      <th>Ties</th>\n",
       "      <th>Usage</th>\n",
       "      <th>Win Rate</th>\n",
       "      <th>Usage Rate</th>\n",
       "    </tr>\n",
       "  </thead>\n",
       "  <tbody>\n",
       "    <tr>\n",
       "      <th>183</th>\n",
       "      <td>Giant</td>\n",
       "      <td>Rage</td>\n",
       "      <td>Mini P.E.K.K.A</td>\n",
       "      <td>Dark Prince</td>\n",
       "      <td>Sparky</td>\n",
       "      <td>Minion Horde</td>\n",
       "      <td>Elixir Collector</td>\n",
       "      <td>Wizard</td>\n",
       "      <td>260</td>\n",
       "      <td>257</td>\n",
       "      <td>0</td>\n",
       "      <td>517</td>\n",
       "      <td>0.502901</td>\n",
       "      <td>0.001437</td>\n",
       "    </tr>\n",
       "    <tr>\n",
       "      <th>264</th>\n",
       "      <td>Tornado</td>\n",
       "      <td>Hog Rider</td>\n",
       "      <td>Knight</td>\n",
       "      <td>The Log</td>\n",
       "      <td>Fireball</td>\n",
       "      <td>Giant Skeleton</td>\n",
       "      <td>Wizard</td>\n",
       "      <td>Skeleton Army</td>\n",
       "      <td>138</td>\n",
       "      <td>191</td>\n",
       "      <td>0</td>\n",
       "      <td>329</td>\n",
       "      <td>0.419453</td>\n",
       "      <td>0.000914</td>\n",
       "    </tr>\n",
       "  </tbody>\n",
       "</table>\n",
       "</div>"
      ],
      "text/plain": [
       "      Card_1     Card_2          Card_3       Card_4    Card_5  \\\n",
       "183    Giant       Rage  Mini P.E.K.K.A  Dark Prince    Sparky   \n",
       "264  Tornado  Hog Rider          Knight      The Log  Fireball   \n",
       "\n",
       "             Card_6            Card_7         Card_8  Wins  Losses  Ties  \\\n",
       "183    Minion Horde  Elixir Collector         Wizard   260     257     0   \n",
       "264  Giant Skeleton            Wizard  Skeleton Army   138     191     0   \n",
       "\n",
       "     Usage  Win Rate  Usage Rate  \n",
       "183    517  0.502901    0.001437  \n",
       "264    329  0.419453    0.000914  "
      ]
     },
     "execution_count": 8,
     "metadata": {},
     "output_type": "execute_result"
    }
   ],
   "source": [
    "result"
   ]
  },
  {
   "cell_type": "code",
   "execution_count": 9,
   "metadata": {},
   "outputs": [
    {
     "name": "stdout",
     "output_type": "stream",
     "text": [
      "There are 2 decks with wizard in them.\n"
     ]
    }
   ],
   "source": [
    "print(\"There are {} decks with {} in them.\".format(len(result), card_name_to_search))"
   ]
  },
  {
   "cell_type": "code",
   "execution_count": 10,
   "metadata": {},
   "outputs": [
    {
     "name": "stdout",
     "output_type": "stream",
     "text": [
      "Here are the top 5 decks with the highest win rate:\n"
     ]
    },
    {
     "data": {
      "text/html": [
       "<div>\n",
       "<style scoped>\n",
       "    .dataframe tbody tr th:only-of-type {\n",
       "        vertical-align: middle;\n",
       "    }\n",
       "\n",
       "    .dataframe tbody tr th {\n",
       "        vertical-align: top;\n",
       "    }\n",
       "\n",
       "    .dataframe thead th {\n",
       "        text-align: right;\n",
       "    }\n",
       "</style>\n",
       "<table border=\"1\" class=\"dataframe\">\n",
       "  <thead>\n",
       "    <tr style=\"text-align: right;\">\n",
       "      <th></th>\n",
       "      <th>Card_1</th>\n",
       "      <th>Card_2</th>\n",
       "      <th>Card_3</th>\n",
       "      <th>Card_4</th>\n",
       "      <th>Card_5</th>\n",
       "      <th>Card_6</th>\n",
       "      <th>Card_7</th>\n",
       "      <th>Card_8</th>\n",
       "      <th>Wins</th>\n",
       "      <th>Losses</th>\n",
       "      <th>Ties</th>\n",
       "      <th>Usage</th>\n",
       "      <th>Win Rate</th>\n",
       "      <th>Usage Rate</th>\n",
       "    </tr>\n",
       "  </thead>\n",
       "  <tbody>\n",
       "    <tr>\n",
       "      <th>183</th>\n",
       "      <td>Giant</td>\n",
       "      <td>Rage</td>\n",
       "      <td>Mini P.E.K.K.A</td>\n",
       "      <td>Dark Prince</td>\n",
       "      <td>Sparky</td>\n",
       "      <td>Minion Horde</td>\n",
       "      <td>Elixir Collector</td>\n",
       "      <td>Wizard</td>\n",
       "      <td>260</td>\n",
       "      <td>257</td>\n",
       "      <td>0</td>\n",
       "      <td>517</td>\n",
       "      <td>0.502901</td>\n",
       "      <td>0.001437</td>\n",
       "    </tr>\n",
       "    <tr>\n",
       "      <th>264</th>\n",
       "      <td>Tornado</td>\n",
       "      <td>Hog Rider</td>\n",
       "      <td>Knight</td>\n",
       "      <td>The Log</td>\n",
       "      <td>Fireball</td>\n",
       "      <td>Giant Skeleton</td>\n",
       "      <td>Wizard</td>\n",
       "      <td>Skeleton Army</td>\n",
       "      <td>138</td>\n",
       "      <td>191</td>\n",
       "      <td>0</td>\n",
       "      <td>329</td>\n",
       "      <td>0.419453</td>\n",
       "      <td>0.000914</td>\n",
       "    </tr>\n",
       "  </tbody>\n",
       "</table>\n",
       "</div>"
      ],
      "text/plain": [
       "      Card_1     Card_2          Card_3       Card_4    Card_5  \\\n",
       "183    Giant       Rage  Mini P.E.K.K.A  Dark Prince    Sparky   \n",
       "264  Tornado  Hog Rider          Knight      The Log  Fireball   \n",
       "\n",
       "             Card_6            Card_7         Card_8  Wins  Losses  Ties  \\\n",
       "183    Minion Horde  Elixir Collector         Wizard   260     257     0   \n",
       "264  Giant Skeleton            Wizard  Skeleton Army   138     191     0   \n",
       "\n",
       "     Usage  Win Rate  Usage Rate  \n",
       "183    517  0.502901    0.001437  \n",
       "264    329  0.419453    0.000914  "
      ]
     },
     "execution_count": 10,
     "metadata": {},
     "output_type": "execute_result"
    }
   ],
   "source": [
    "print(\"Here are the top 5 decks with the highest win rate for {}:\".format(card_name_to_search))\n",
    "top_5_results = result.sort_values(by='Win Rate', ascending=False).head(5)\n",
    "top_5_results"
   ]
  },
  {
   "cell_type": "code",
   "execution_count": null,
   "metadata": {},
   "outputs": [],
   "source": []
  }
 ],
 "metadata": {
  "kernelspec": {
   "display_name": "base",
   "language": "python",
   "name": "python3"
  },
  "language_info": {
   "codemirror_mode": {
    "name": "ipython",
    "version": 3
   },
   "file_extension": ".py",
   "mimetype": "text/x-python",
   "name": "python",
   "nbconvert_exporter": "python",
   "pygments_lexer": "ipython3",
   "version": "3.11.5"
  }
 },
 "nbformat": 4,
 "nbformat_minor": 2
}
