{
 "cells": [
  {
   "cell_type": "markdown",
   "metadata": {},
   "source": [
    "# Removing Columns\n",
    "After unzipping the battle dataset from the first `ipynb` file.  \n",
    "We can now start preprocessing the data.\n",
    "\n",
    "We're going to remove the columns that have are identifiers and unneeded stats.\n",
    "These columns will have no effect for the final product.\n",
    "\n",
    "<sub><sup>Please note that this notebook was made with the help of ChatGPT</sup></sub>"
   ]
  },
  {
   "cell_type": "code",
   "execution_count": 1,
   "metadata": {},
   "outputs": [
    {
     "name": "stdout",
     "output_type": "stream",
     "text": [
      "Defaulting to user installation because normal site-packages is not writeable\n",
      "Requirement already satisfied: pandas in c:\\programdata\\anaconda3\\lib\\site-packages (2.0.3)\n",
      "Requirement already satisfied: python-dateutil>=2.8.2 in c:\\programdata\\anaconda3\\lib\\site-packages (from pandas) (2.8.2)\n",
      "Requirement already satisfied: pytz>=2020.1 in c:\\programdata\\anaconda3\\lib\\site-packages (from pandas) (2023.3.post1)\n",
      "Requirement already satisfied: tzdata>=2022.1 in c:\\programdata\\anaconda3\\lib\\site-packages (from pandas) (2023.3)\n",
      "Requirement already satisfied: numpy>=1.21.0 in c:\\programdata\\anaconda3\\lib\\site-packages (from pandas) (1.24.3)\n",
      "Requirement already satisfied: six>=1.5 in c:\\programdata\\anaconda3\\lib\\site-packages (from python-dateutil>=2.8.2->pandas) (1.16.0)\n",
      "Note: you may need to restart the kernel to use updated packages.\n"
     ]
    }
   ],
   "source": [
    "%pip install pandas\n",
    "import pandas as pd"
   ]
  },
  {
   "cell_type": "code",
   "execution_count": 4,
   "metadata": {},
   "outputs": [],
   "source": [
    "file_path = \"data/out/battle_dataset/battlesStaging_12282020_WL_tagged.csv\""
   ]
  },
  {
   "cell_type": "markdown",
   "metadata": {},
   "source": [
    "We are going to load the dataset into `pandas` so we can easily preprocess it."
   ]
  },
  {
   "cell_type": "code",
   "execution_count": 5,
   "metadata": {},
   "outputs": [],
   "source": [
    "data = pd.read_csv(file_path)\n",
    "print(\"We have successfully loaded the data!\")"
   ]
  },
  {
   "cell_type": "markdown",
   "metadata": {},
   "source": [
    "Here is the code to get the columns for `columns_to_remove`."
   ]
  },
  {
   "cell_type": "code",
   "execution_count": 6,
   "metadata": {},
   "outputs": [],
   "source": [
    "columns_to_remove = [\n",
    "    \"battleTime\", # This is a timestamp, which is not useful for the model\n",
    "    \"tournamentTag\", # All battles in this dataset are ladder battles\n",
    "    \"arena.id\", # All arenas in this dataset are ranked arenas\n",
    "    \"gameMode.id\", # All gamemodes in this dataset are ladder battles\n",
    "]\n",
    "\n",
    "# Go through each team and add the columns to the columns_to_remove list\n",
    "teams = [\"loser\", \"winner\"]\n",
    "for team in teams:\n",
    "    columns = [\n",
    "        \"{}.tag\".format(team), # This is a unique identifier for each player (not needed)\n",
    "        \n",
    "        \"{}.startingTrophies\".format(team), # This is not needed since we have the average.startingTrophies\n",
    "        \"{}.trophyChange\".format(team),\n",
    "        \"{}.clan.tag\".format(team),\n",
    "        \"{}.clan.badgeId\".format(team),\n",
    "\n",
    "        \"{}.kingTowerHitPoints\".format(team),\n",
    "        \"{}.princessTowersHitPoints\".format(team),\n",
    "\n",
    "        \"{}.cards.list\".format(team),\n",
    "\n",
    "        \"{}.totalcard.level\".format(team),\n",
    "        \"{}.troop.count\".format(team),\n",
    "        \"{}.structure.count\".format(team),\n",
    "        \"{}.spell.count\".format(team),\n",
    "        \"{}.common.count\".format(team),\n",
    "        \"{}.rare.count\".format(team),\n",
    "        \"{}.epic.count\".format(team),\n",
    "        \"{}.legendary.count\".format(team),\n",
    "        \"{}.elixir.average\".format(team),\n",
    "    ]\n",
    "    columns_to_remove.append(\n",
    "        columns\n",
    "    )\n",
    "print(\"We have successfully created the columns_to_remove list!\")"
   ]
  },
  {
   "cell_type": "markdown",
   "metadata": {},
   "source": [
    "Afterwards, we drop all the columns in `columns_to_remove`."
   ]
  },
  {
   "cell_type": "code",
   "execution_count": 7,
   "metadata": {},
   "outputs": [],
   "source": [
    "data.rename({\"Unnamed: 0\":\"index\"}, axis=\"columns\", inplace=True) # There is an unnamed column that is the index\n",
    "data.drop([\"index\"], axis=1, inplace=True)"
   ]
  },
  {
   "cell_type": "code",
   "execution_count": 8,
   "metadata": {},
   "outputs": [
    {
     "name": "stdout",
     "output_type": "stream",
     "text": [
      "We have successfully removed all the columns in `columns_to_remove`!\n"
     ]
    }
   ],
   "source": [
    "for column in columns_to_remove:\n",
    "    data.drop(column, inplace=True, axis=1)\n",
    "print(\"We have successfully removed all the columns in `columns_to_remove`!\")\n"
   ]
  },
  {
   "cell_type": "markdown",
   "metadata": {},
   "source": [
    "We are going to replace the old battle dataset to save space."
   ]
  },
  {
   "cell_type": "code",
   "execution_count": 9,
   "metadata": {},
   "outputs": [],
   "source": [
    "data.to_csv(file_path, index=False)\n",
    "print(\"We have successfully saved the data!\")"
   ]
  },
  {
   "cell_type": "markdown",
   "metadata": {},
   "source": [
    "Now the columns which remain are:\n",
    "- average.startingTrophies\n",
    "- winner.crowns\n",
    "- loser.crowns\n",
    "- winner.card#.id\n",
    "- winner.card#.level\n",
    "- loser.card#.id\n",
    "- loser.card#.level\n",
    "\n",
    "(# is 1-8)\n",
    "\n",
    "We can now proceed to the next `ipynb` file (3)."
   ]
  }
 ],
 "metadata": {
  "kernelspec": {
   "display_name": "Python 3",
   "language": "python",
   "name": "python3"
  },
  "language_info": {
   "codemirror_mode": {
    "name": "ipython",
    "version": 3
   },
   "file_extension": ".py",
   "mimetype": "text/x-python",
   "name": "python",
   "nbconvert_exporter": "python",
   "pygments_lexer": "ipython3",
   "version": "3.11.5"
  }
 },
 "nbformat": 4,
 "nbformat_minor": 2
}
